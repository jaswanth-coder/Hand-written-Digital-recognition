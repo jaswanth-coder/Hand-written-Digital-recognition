{
  "nbformat": 4,
  "nbformat_minor": 0,
  "metadata": {
    "colab": {
      "provenance": [],
      "collapsed_sections": [],
      "authorship_tag": "ABX9TyOyYH6sjGtaYpasH191EzPW",
      "include_colab_link": true
    },
    "kernelspec": {
      "name": "python3",
      "display_name": "Python 3"
    },
    "language_info": {
      "name": "python"
    }
  },
  "cells": [
    {
      "cell_type": "markdown",
      "metadata": {
        "id": "view-in-github",
        "colab_type": "text"
      },
      "source": [
        "<a href=\"https://colab.research.google.com/github/jaswanth-coder/Hand-written-Digital-recognition/blob/main/HanddgitmlJaswanth.ipynb\" target=\"_parent\"><img src=\"https://colab.research.google.com/assets/colab-badge.svg\" alt=\"Open In Colab\"/></a>"
      ]
    },
    {
      "cell_type": "code",
      "source": [
        "#gradio sketch_recognition\n",
        "import gradio as gr\n",
        "\n",
        "def sketch_recognition(img):\n",
        "    pass  # Implement your sketch recognition model here...\n",
        "\n",
        "gr.Interface(fn=sketch_recognition, inputs=\"sketchpad\", outputs=\"label\").launch()"
      ],
      "metadata": {
        "id": "tV2y8BU7HkqR"
      },
      "execution_count": null,
      "outputs": []
    },
    {
      "cell_type": "code",
      "execution_count": null,
      "metadata": {
        "colab": {
          "base_uri": "https://localhost:8080/"
        },
        "id": "LUcmoipdEP-0",
        "outputId": "80bca3ee-3268-498d-84b8-fbb695c1fe19"
      },
      "outputs": [
        {
          "output_type": "stream",
          "name": "stdout",
          "text": [
            "(60000, 28, 28)\n",
            "(60000,)\n"
          ]
        }
      ],
      "source": [
        "#Welcome to Hand written digital recongnition.\n",
        "#Introductio: Hi! I am jaswanth Kumar an AI entuaist\n",
        "''' This notebook will birefly introduce to you the digital number recognition using gradio interface. \n",
        "Dontworry if dont know about anything just Kindly go through the note book.!'''\n",
        "#I have used gradio python lib for UI\n",
        "import tensorflow as tf\n",
        "from tensorflow import keras\n",
        "#Loading the digital number data from MNIST\n",
        "\n",
        "(training_images,training_labels),(testing_images,testing_label)= tf.keras.datasets.mnist.load_data()\n",
        "#getting the shape of the training data and test data\n",
        "print(training_images.shape) \n",
        "print(training_labels.shape)\n"
      ]
    },
    {
      "cell_type": "code",
      "source": [
        "#Normalise the pixel values\n",
        "training_images=training_images/255.0\n",
        "testing_images=testing_images/255.0\n",
        "\n"
      ],
      "metadata": {
        "id": "KIUkCB1DJ7AB"
      },
      "execution_count": null,
      "outputs": []
    },
    {
      "cell_type": "markdown",
      "source": [
        "Callback funtion"
      ],
      "metadata": {
        "id": "4rtsVPm_PLfz"
      }
    },
    {
      "cell_type": "code",
      "source": [
        "#Callback function for avoiding overfitting of the data\n",
        "class myCallback(tf.keras.callbacks.Callback): \n",
        "    def on_epoch_end(self,epoch,logs={}):\n",
        "    #check for accuracy\n",
        "      if (logs.get('accuracy')>0.99):\n",
        "           #stoping the traning the model\n",
        "          print(\"\\nStoping the training the model accuracy>99%\")\n",
        "          self.model.stop_training=True\n",
        "callbacks=myCallback()\n",
        "\n",
        "\n"
      ],
      "metadata": {
        "id": "Mnysq_EGPPH8"
      },
      "execution_count": null,
      "outputs": []
    },
    {
      "cell_type": "code",
      "source": [
        "#Building a model\n",
        "#NEED to try adding Convulation layer and maxpooling funtion\n",
        "digital=tf.keras.models.Sequential([tf.keras.layers.Flatten(),\n",
        "                                    tf.keras.layers.Dense(128,activation=tf.nn.relu),\n",
        "                                    tf.keras.layers.Dense(10,activation=tf.nn.relu),\n",
        "                                    tf.keras.layers.Dense(10,activation=tf.nn.softmax)])\n",
        "\n",
        "\n",
        "\n"
      ],
      "metadata": {
        "id": "SK9-8LlQFJbv"
      },
      "execution_count": null,
      "outputs": []
    },
    {
      "cell_type": "markdown",
      "source": [
        "Compling the model "
      ],
      "metadata": {
        "id": "MESBme3rF9J7"
      }
    },
    {
      "cell_type": "code",
      "source": [
        "# complie the model\n",
        "digital.compile(optimizer=\"adam\", loss=\"sparse_categorical_crossentropy\",metrics=['accuracy'])"
      ],
      "metadata": {
        "id": "aKsKctoPGBTN"
      },
      "execution_count": null,
      "outputs": []
    },
    {
      "cell_type": "markdown",
      "source": [
        "Training the network for recongnition."
      ],
      "metadata": {
        "id": "rfgv005KGhKb"
      }
    },
    {
      "cell_type": "code",
      "source": [
        "#Training  the model for hand written digitals with the test data\n",
        "print(\"Model Training\")\n",
        "digital.fit( training_images ,training_labels, epochs=10, callbacks=[callbacks])\n"
      ],
      "metadata": {
        "colab": {
          "base_uri": "https://localhost:8080/"
        },
        "id": "eLZp13EEGm74",
        "outputId": "02059978-b2ae-48bd-bfdb-f6cd929eb9ad"
      },
      "execution_count": null,
      "outputs": [
        {
          "output_type": "stream",
          "name": "stdout",
          "text": [
            "Model Training\n",
            "Epoch 1/10\n",
            "1875/1875 [==============================] - 5s 2ms/step - loss: 0.3128 - accuracy: 0.9084\n",
            "Epoch 2/10\n",
            "1875/1875 [==============================] - 4s 2ms/step - loss: 0.1218 - accuracy: 0.9644\n",
            "Epoch 3/10\n",
            "1875/1875 [==============================] - 4s 2ms/step - loss: 0.0877 - accuracy: 0.9746\n",
            "Epoch 4/10\n",
            "1875/1875 [==============================] - 4s 2ms/step - loss: 0.0661 - accuracy: 0.9801\n",
            "Epoch 5/10\n",
            "1875/1875 [==============================] - 4s 2ms/step - loss: 0.0538 - accuracy: 0.9837\n",
            "Epoch 6/10\n",
            "1875/1875 [==============================] - 4s 2ms/step - loss: 0.0406 - accuracy: 0.9877\n",
            "Epoch 7/10\n",
            "1875/1875 [==============================] - 4s 2ms/step - loss: 0.0359 - accuracy: 0.9891\n",
            "Epoch 8/10\n",
            "1858/1875 [============================>.] - ETA: 0s - loss: 0.0275 - accuracy: 0.9911Stoping the training the model accuracy>99%\n",
            "1875/1875 [==============================] - 4s 2ms/step - loss: 0.0274 - accuracy: 0.9911\n"
          ]
        },
        {
          "output_type": "execute_result",
          "data": {
            "text/plain": [
              "<keras.callbacks.History at 0x7f3384dab490>"
            ]
          },
          "metadata": {},
          "execution_count": 31
        }
      ]
    },
    {
      "cell_type": "code",
      "source": [
        "#Evaluting the test data\n",
        "print(\"Testing it on testing data\")\n",
        "\n",
        "train_loss=digital.evaluate(testing_images,testing_label)\n",
        "print(\"Accuracy of decting:\")"
      ],
      "metadata": {
        "colab": {
          "base_uri": "https://localhost:8080/"
        },
        "id": "2643oUbJGxpQ",
        "outputId": "145f5763-9391-490b-f4d8-f5d85bbc7886"
      },
      "execution_count": null,
      "outputs": [
        {
          "output_type": "stream",
          "name": "stdout",
          "text": [
            "Testing it on testing data\n",
            "313/313 [==============================] - 1s 2ms/step - loss: 0.0808 - accuracy: 0.9778\n",
            "Accuracy of decting:\n"
          ]
        }
      ]
    }
  ]
}